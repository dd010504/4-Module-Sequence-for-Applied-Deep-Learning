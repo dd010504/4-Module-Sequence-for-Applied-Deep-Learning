{
 "cells": [
  {
   "cell_type": "markdown",
   "id": "8a6eb68a",
   "metadata": {},
   "source": [
    "\n",
    "# Module 1 — Linear Regression (from scratch)\n",
    "\n",
    "This notebook implements the full Module 1 assignment end‑to‑end:\n",
    "\n",
    "- Load & preprocess the Facebook Metrics dataset\n",
    "- Implement `bias_trick`, `train_test_split`\n",
    "- Implement MSE, gradient, and a gradient descent trainer\n",
    "- Plot train/test MSE across epochs\n",
    "- (Bonus) Polynomial regression with L2 (weight decay) to fit non‑linear patterns\n",
    "\n",
    "> Fill your name & ID below if required by your course.\n"
   ]
  },
  {
   "cell_type": "code",
   "execution_count": null,
   "id": "86f746cf",
   "metadata": {},
   "outputs": [],
   "source": [
    "\n",
    "NAME = \"David Dinh\"\n",
    "STUDENT_ID = \"dd26\"\n"
   ]
  },
  {
   "cell_type": "markdown",
   "id": "38a3d8cb",
   "metadata": {},
   "source": [
    "\n",
    "## 0) Imports & utilities\n"
   ]
  },
  {
   "cell_type": "code",
   "execution_count": 2,
   "id": "623cc5ca",
   "metadata": {},
   "outputs": [],
   "source": [
    "\n",
    "# Core\n",
    "import numpy as np\n",
    "import pandas as pd\n",
    "\n",
    "# Viz\n",
    "import matplotlib.pyplot as plt\n",
    "\n",
    "# Reproducibility\n",
    "np.random.seed(144)\n",
    "\n",
    "def shuffle_data(data: np.ndarray) -> None:\n",
    "    \"\"\"Shuffles the data in place (rows).\"\"\"\n",
    "    np.random.shuffle(data)\n"
   ]
  },
  {
   "cell_type": "markdown",
   "id": "52c0a8c1",
   "metadata": {},
   "source": [
    "\n",
    "## 1) Download and prepare the Facebook Metrics dataset\n",
    "\n",
    "The original assignment uses the UCI Facebook metrics dataset. The next cell downloads\n",
    "and unzips it to the current working directory, then:\n",
    "- drops the non‑used columns per the spec\n",
    "- normalizes all columns to [0,1]\n",
    "- shuffles the rows once for reproducibility\n"
   ]
  },
  {
   "cell_type": "code",
   "execution_count": 3,
   "id": "d4e6a8f0",
   "metadata": {},
   "outputs": [
    {
     "name": "stdout",
     "output_type": "stream",
     "text": [
      "Downloading dataset...\n",
      "Extracting...\n"
     ]
    },
    {
     "data": {
      "text/html": [
       "<div>\n",
       "<style scoped>\n",
       "    .dataframe tbody tr th:only-of-type {\n",
       "        vertical-align: middle;\n",
       "    }\n",
       "\n",
       "    .dataframe tbody tr th {\n",
       "        vertical-align: top;\n",
       "    }\n",
       "\n",
       "    .dataframe thead th {\n",
       "        text-align: right;\n",
       "    }\n",
       "</style>\n",
       "<table border=\"1\" class=\"dataframe\">\n",
       "  <thead>\n",
       "    <tr style=\"text-align: right;\">\n",
       "      <th></th>\n",
       "      <th>Page total likes</th>\n",
       "      <th>Category</th>\n",
       "      <th>Post Month</th>\n",
       "      <th>Post Weekday</th>\n",
       "      <th>Post Hour</th>\n",
       "      <th>Paid</th>\n",
       "      <th>Total Interactions</th>\n",
       "    </tr>\n",
       "  </thead>\n",
       "  <tbody>\n",
       "    <tr>\n",
       "      <th>0</th>\n",
       "      <td>1.0</td>\n",
       "      <td>0.5</td>\n",
       "      <td>1.0</td>\n",
       "      <td>0.500000</td>\n",
       "      <td>0.090909</td>\n",
       "      <td>0.0</td>\n",
       "      <td>0.015788</td>\n",
       "    </tr>\n",
       "    <tr>\n",
       "      <th>1</th>\n",
       "      <td>1.0</td>\n",
       "      <td>0.5</td>\n",
       "      <td>1.0</td>\n",
       "      <td>0.333333</td>\n",
       "      <td>0.409091</td>\n",
       "      <td>0.0</td>\n",
       "      <td>0.025892</td>\n",
       "    </tr>\n",
       "    <tr>\n",
       "      <th>2</th>\n",
       "      <td>1.0</td>\n",
       "      <td>1.0</td>\n",
       "      <td>1.0</td>\n",
       "      <td>0.333333</td>\n",
       "      <td>0.090909</td>\n",
       "      <td>0.0</td>\n",
       "      <td>0.012630</td>\n",
       "    </tr>\n",
       "    <tr>\n",
       "      <th>3</th>\n",
       "      <td>1.0</td>\n",
       "      <td>0.5</td>\n",
       "      <td>1.0</td>\n",
       "      <td>0.166667</td>\n",
       "      <td>0.409091</td>\n",
       "      <td>1.0</td>\n",
       "      <td>0.280549</td>\n",
       "    </tr>\n",
       "    <tr>\n",
       "      <th>4</th>\n",
       "      <td>1.0</td>\n",
       "      <td>0.5</td>\n",
       "      <td>1.0</td>\n",
       "      <td>0.166667</td>\n",
       "      <td>0.090909</td>\n",
       "      <td>0.0</td>\n",
       "      <td>0.062046</td>\n",
       "    </tr>\n",
       "  </tbody>\n",
       "</table>\n",
       "</div>"
      ],
      "text/plain": [
       "   Page total likes  Category  Post Month  Post Weekday  Post Hour  Paid  \\\n",
       "0               1.0       0.5         1.0      0.500000   0.090909   0.0   \n",
       "1               1.0       0.5         1.0      0.333333   0.409091   0.0   \n",
       "2               1.0       1.0         1.0      0.333333   0.090909   0.0   \n",
       "3               1.0       0.5         1.0      0.166667   0.409091   1.0   \n",
       "4               1.0       0.5         1.0      0.166667   0.090909   0.0   \n",
       "\n",
       "   Total Interactions  \n",
       "0            0.015788  \n",
       "1            0.025892  \n",
       "2            0.012630  \n",
       "3            0.280549  \n",
       "4            0.062046  "
      ]
     },
     "metadata": {},
     "output_type": "display_data"
    },
    {
     "name": "stdout",
     "output_type": "stream",
     "text": [
      "Data shape (rows, cols): (495, 7)\n"
     ]
    }
   ],
   "source": [
    "\n",
    "# If you're running in an environment without internet, skip this cell and place the CSV\n",
    "# next to this notebook as 'dataset_Facebook.csv'.\n",
    "import os, zipfile, urllib.request\n",
    "\n",
    "ZIP_URL = \"http://archive.ics.uci.edu/ml/machine-learning-databases/00368/Facebook_metrics.zip\"\n",
    "ZIP_PATH = \"Facebook_metrics.zip\"\n",
    "CSV_PATH = \"dataset_Facebook.csv\"\n",
    "\n",
    "if not os.path.exists(CSV_PATH):\n",
    "    try:\n",
    "        print(\"Downloading dataset...\")\n",
    "        urllib.request.urlretrieve(ZIP_URL, ZIP_PATH)\n",
    "        print(\"Extracting...\")\n",
    "        with zipfile.ZipFile(ZIP_PATH, 'r') as z:\n",
    "            z.extractall(\"./\")\n",
    "    except Exception as e:\n",
    "        print(\"Download failed (are you offline?). If so, make sure 'dataset_Facebook.csv' is present.\")\n",
    "        print(e)\n",
    "\n",
    "# Load & clean\n",
    "lr_dataframe = pd.read_csv(CSV_PATH, sep=';')\n",
    "lr_dataframe.dropna(inplace=True)\n",
    "\n",
    "columns_to_drop = [\n",
    "    'Type','Lifetime Post Total Reach','Lifetime Post Total Impressions',\n",
    "    'Lifetime Engaged Users','Lifetime Post Consumers','Lifetime Post Consumptions',\n",
    "    'Lifetime Post Impressions by people who have liked your Page',\n",
    "    'Lifetime Post reach by people who like your Page',\n",
    "    'Lifetime People who have liked your Page and engaged with your post',\n",
    "    'comment','like','share'\n",
    "]\n",
    "lr_dataframe.drop(columns=[c for c in columns_to_drop if c in lr_dataframe.columns], inplace=True)\n",
    "\n",
    "# Normalize all remaining numeric columns to [0,1]\n",
    "def normalize_col(col):\n",
    "    if pd.api.types.is_numeric_dtype(col):\n",
    "        rng = col.max() - col.min()\n",
    "        return (col - col.min())/rng if rng != 0 else 0.0\n",
    "    return col\n",
    "\n",
    "lr_dataframe = lr_dataframe.apply(normalize_col)\n",
    "\n",
    "# Numpy matrix (features + target)\n",
    "lr_data = lr_dataframe.values.astype(float)\n",
    "\n",
    "# Shuffle rows once for reproducibility\n",
    "shuffle_data(lr_data)\n",
    "\n",
    "# Quick peek\n",
    "display(lr_dataframe.head())\n",
    "print(\"Data shape (rows, cols):\", lr_data.shape)\n"
   ]
  },
  {
   "cell_type": "markdown",
   "id": "0f0064f2",
   "metadata": {},
   "source": [
    "\n",
    "## 2) Split helpers (`bias_trick`, `separate_data`, `train_test_split`)\n"
   ]
  },
  {
   "cell_type": "code",
   "execution_count": 4,
   "id": "19ae3375",
   "metadata": {},
   "outputs": [
    {
     "data": {
      "text/plain": [
       "((396, 7), (396, 1), (99, 7), (99, 1))"
      ]
     },
     "execution_count": 4,
     "metadata": {},
     "output_type": "execute_result"
    }
   ],
   "source": [
    "\n",
    "def bias_trick(X: np.ndarray) -> np.ndarray:\n",
    "    \"\"\"Augment X with a column of 1s as the first column (bias).\"\"\"\n",
    "    ones = np.ones((X.shape[0], 1), dtype=X.dtype)\n",
    "    return np.hstack((ones, X))\n",
    "\n",
    "def separate_data(data: np.ndarray):\n",
    "    \"\"\"Split raw data into (X, y) and apply bias trick to X.\n",
    "    Assumes the last column is the target 'Total Interactions' after cleaning.\n",
    "    \"\"\"\n",
    "    X = data[:, :-1]\n",
    "    y = data[:, -1].reshape(-1, 1)\n",
    "    X = bias_trick(X)\n",
    "    return X, y\n",
    "\n",
    "def train_test_split(data: np.ndarray, train_size: float = 0.8):\n",
    "    \"\"\"Return X_train, y_train, X_test, y_test\"\"\"\n",
    "    assert 0 < train_size < 1, \"train_size must be in (0,1)\"\n",
    "    X, y = separate_data(data)\n",
    "    n = X.shape[0]\n",
    "    n_train = int(n * train_size)\n",
    "    X_train, y_train = X[:n_train], y[:n_train]\n",
    "    X_test,  y_test  = X[n_train:], y[n_train:]\n",
    "    return X_train, y_train, X_test, y_test\n",
    "\n",
    "# Prepare splits\n",
    "X_train, y_train, X_test, y_test = train_test_split(lr_data, train_size=0.8)\n",
    "X_train.shape, y_train.shape, X_test.shape, y_test.shape\n"
   ]
  },
  {
   "cell_type": "markdown",
   "id": "27c11375",
   "metadata": {},
   "source": [
    "\n",
    "## 3) Loss, gradient, and a single GD step (MSE)\n"
   ]
  },
  {
   "cell_type": "code",
   "execution_count": 5,
   "id": "c47afa20",
   "metadata": {},
   "outputs": [],
   "source": [
    "\n",
    "def mse(y_pred: np.ndarray, y_true: np.ndarray) -> float:\n",
    "    \"\"\"Mean Squared Error.\"\"\"\n",
    "    assert y_pred.shape == y_true.shape\n",
    "    return float(np.mean((y_pred - y_true)**2) / 2.0)  # /2 to match derivation\n",
    "\n",
    "def mse_derivative(X: np.ndarray, y: np.ndarray, theta: np.ndarray) -> np.ndarray:\n",
    "    \"\"\"Gradient of MSE wrt theta (vectorized). X includes bias column.\"\"\"\n",
    "    # y_hat = X @ theta\n",
    "    y_hat = X.dot(theta)\n",
    "    # (1/n) * X^T (y_hat - y)\n",
    "    n = X.shape[0]\n",
    "    return (X.T.dot(y_hat - y)) / n\n",
    "\n",
    "def gradient_descent_step(X: np.ndarray, y: np.ndarray, theta: np.ndarray, alpha: float) -> np.ndarray:\n",
    "    grad = mse_derivative(X, y, theta)\n",
    "    return theta - alpha * grad\n",
    "\n",
    "def predict(X: np.ndarray, theta: np.ndarray) -> np.ndarray:\n",
    "    return X.dot(theta)\n"
   ]
  },
  {
   "cell_type": "markdown",
   "id": "cea952f7",
   "metadata": {},
   "source": [
    "\n",
    "## 4) Training loop for Linear Regression\n"
   ]
  },
  {
   "cell_type": "code",
   "execution_count": 6,
   "id": "efacd477",
   "metadata": {},
   "outputs": [
    {
     "name": "stdout",
     "output_type": "stream",
     "text": [
      "Epoch 1600/8000 | train MSE=0.002451 | test MSE=0.000413\n",
      "Epoch 3200/8000 | train MSE=0.002289 | test MSE=0.000322\n",
      "Epoch 4800/8000 | train MSE=0.002216 | test MSE=0.000296\n",
      "Epoch 6400/8000 | train MSE=0.002182 | test MSE=0.000295\n",
      "Epoch 8000/8000 | train MSE=0.002165 | test MSE=0.000300\n"
     ]
    },
    {
     "data": {
      "image/png": "[encoded data removed]",
      "text/plain": [
       "<Figure size 700x400 with 1 Axes>"
      ]
     },
     "metadata": {},
     "output_type": "display_data"
    },
    {
     "name": "stdout",
     "output_type": "stream",
     "text": [
      "Final train MSE: 0.0021653466589839445\n",
      "Final test  MSE: 0.000300226198596862\n",
      "Theta shape: (7, 1)\n"
     ]
    }
   ],
   "source": [
    "\n",
    "def train_linear_regression(X_train, y_train, X_test, y_test, num_epochs=30000, alpha=5e-5):\n",
    "    theta = np.zeros((X_train.shape[1], 1))\n",
    "    train_errors, test_errors = [], []\n",
    "    for epoch in range(num_epochs):\n",
    "        # Forward\n",
    "        y_hat_train = predict(X_train, theta)\n",
    "        y_hat_test  = predict(X_test, theta)\n",
    "        # Record errors\n",
    "        train_errors.append(mse(y_hat_train, y_train))\n",
    "        test_errors.append(mse(y_hat_test,  y_test))\n",
    "        # One GD step\n",
    "        theta = gradient_descent_step(X_train, y_train, theta, alpha)\n",
    "        # (Optional) print progress sparsely\n",
    "        if (epoch+1) % max(1, num_epochs//5) == 0:\n",
    "            print(f\"Epoch {epoch+1}/{num_epochs} | train MSE={train_errors[-1]:.6f} | test MSE={test_errors[-1]:.6f}\")\n",
    "    return theta, np.array(train_errors), np.array(test_errors)\n",
    "\n",
    "theta, train_errors, test_errors = train_linear_regression(X_train, y_train, X_test, y_test,\n",
    "                                                           num_epochs=8000, alpha=1e-4)\n",
    "\n",
    "plt.figure(figsize=(7,4))\n",
    "plt.plot(train_errors, label=\"train MSE\")\n",
    "plt.plot(test_errors,  label=\"test MSE\")\n",
    "plt.xlabel(\"Epoch\")\n",
    "plt.ylabel(\"MSE\")\n",
    "plt.title(\"Linear Regression: MSE vs. Epochs\")\n",
    "plt.legend()\n",
    "plt.show()\n",
    "\n",
    "print(\"Final train MSE:\", train_errors[-1])\n",
    "print(\"Final test  MSE:\", test_errors[-1])\n",
    "print(\"Theta shape:\", theta.shape)\n"
   ]
  },
  {
   "cell_type": "markdown",
   "id": "f4e38f35",
   "metadata": {},
   "source": [
    "\n",
    "## 5) (Bonus) Polynomial regression + L2 regularization (weight decay)\n",
    "\n",
    "This section shows how to fit a **d‑degree polynomial** using the linear regression framework\n",
    "plus L2 regularization to mitigate overfitting.\n"
   ]
  },
  {
   "cell_type": "code",
   "execution_count": 7,
   "id": "77b0c6d6",
   "metadata": {},
   "outputs": [
    {
     "data": {
      "image/png": "[encoded data removed]",
      "text/plain": [
       "<Figure size 600x400 with 1 Axes>"
      ]
     },
     "metadata": {},
     "output_type": "display_data"
    },
    {
     "data": {
      "image/png": "[encoded data removed]",
      "text/plain": [
       "<Figure size 600x400 with 1 Axes>"
      ]
     },
     "metadata": {},
     "output_type": "display_data"
    }
   ],
   "source": [
    "\n",
    "def make_poly_features(x1d: np.ndarray, degree: int) -> np.ndarray:\n",
    "    \"\"\"Given a 1D feature vector (N,), build [1, x, x^2, ..., x^d].\"\"\"\n",
    "    X = np.ones((x1d.shape[0], degree+1))\n",
    "    for d in range(1, degree+1):\n",
    "        X[:, d] = x1d**d\n",
    "    return X\n",
    "\n",
    "def mse_derivative_l2(X: np.ndarray, y: np.ndarray, theta: np.ndarray, lam: float) -> np.ndarray:\n",
    "    n = X.shape[0]\n",
    "    # Gradient of (1/(2n))||Xθ - y||^2 + λ * sum_{j>=1} θ_j^2\n",
    "    # Note: Do not regularize bias term (j=0)\n",
    "    err = X.dot(theta) - y\n",
    "    grad = (X.T.dot(err))/n\n",
    "    reg = 2*lam*theta\n",
    "    reg[0] = 0.0  # no reg on bias\n",
    "    return grad + reg\n",
    "\n",
    "def train_poly_l2(X, y, degree=4, lam=1e-3, alpha=1e-3, epochs=5000):\n",
    "    # X is (N, 1) single feature; build polynomial feature matrix with bias\n",
    "    Xp = make_poly_features(X.squeeze(), degree)\n",
    "    theta = np.zeros((Xp.shape[1], 1))\n",
    "    losses = []\n",
    "    for t in range(epochs):\n",
    "        y_hat = Xp.dot(theta)\n",
    "        losses.append(mse(y_hat, y))\n",
    "        theta -= alpha * mse_derivative_l2(Xp, y, theta, lam)\n",
    "    return theta, Xp, np.array(losses)\n",
    "\n",
    "# Demo with a synthetic 1D curve (since the FB data is multi‑dimensional):\n",
    "rng = np.random.default_rng(33)\n",
    "x = np.linspace(-2, 2, 200).reshape(-1,1)\n",
    "y_true = 0.2 + 0.8*x - 0.1*(x**2) + 0.05*(x**3)\n",
    "y = y_true + 0.05 * rng.normal(size=y_true.shape)\n",
    "\n",
    "theta_poly, Xp, losses = train_poly_l2(x, y, degree=3, lam=1e-2, alpha=1e-2, epochs=3000)\n",
    "\n",
    "plt.figure(figsize=(6,4))\n",
    "plt.plot(losses); plt.title(\"Polynomial regression (L2): MSE vs epochs\"); plt.xlabel(\"Epoch\"); plt.ylabel(\"MSE\"); plt.show()\n",
    "\n",
    "# Plot fit\n",
    "x_plot = x.squeeze()\n",
    "y_fit = Xp.dot(theta_poly).squeeze()\n",
    "\n",
    "plt.figure(figsize=(6,4))\n",
    "plt.scatter(x_plot, y.squeeze(), s=10, label=\"noisy data\")\n",
    "plt.plot(x_plot, y_fit, label=\"poly fit (deg=3, L2=1e-2)\")\n",
    "plt.plot(x_plot, y_true.squeeze(), label=\"true curve\", linestyle=\"--\")\n",
    "plt.legend(); plt.title(\"Polynomial regression with L2 regularization\"); plt.show()\n"
   ]
  }
 ],
 "metadata": {
  "kernelspec": {
   "display_name": "Python 3.12 (.venv-adl)",
   "language": "python",
   "name": "py312-adl"
  },
  "language_info": {
   "codemirror_mode": {
    "name": "ipython",
    "version": 3
   },
   "file_extension": ".py",
   "mimetype": "text/x-python",
   "name": "python",
   "nbconvert_exporter": "python",
   "pygments_lexer": "ipython3",
   "version": "3.12.6"
  }
 },
 "nbformat": 4,
 "nbformat_minor": 5
}
